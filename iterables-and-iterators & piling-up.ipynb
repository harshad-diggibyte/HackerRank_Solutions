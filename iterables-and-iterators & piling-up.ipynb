{
 "cells": [
  {
   "cell_type": "markdown",
   "id": "860814ab",
   "metadata": {},
   "source": [
    "https://www.hackerrank.com/challenges/iterables-and-iterators/problem"
   ]
  },
  {
   "cell_type": "code",
   "execution_count": 2,
   "id": "b28422dd",
   "metadata": {},
   "outputs": [
    {
     "name": "stdout",
     "output_type": "stream",
     "text": [
      "4\n",
      "a a c d\n",
      "2\n",
      "0.8333333333333334\n"
     ]
    }
   ],
   "source": [
    "# Enter your code here. Read input from STDIN. Print output to STDOUT\n",
    "\n",
    "from itertools import combinations\n",
    "\n",
    "n = int(input())\n",
    "array = input().split()\n",
    "k = int(input())\n",
    "\n",
    "comb_list = list(combinations(array, k))\n",
    "a_list = [e for e in comb_list if 'a' in e]\n",
    "print(len(a_list) / len(comb_list))"
   ]
  },
  {
   "cell_type": "markdown",
   "id": "92d01ab0",
   "metadata": {},
   "source": [
    "https://www.hackerrank.com/challenges/piling-up/problem"
   ]
  },
  {
   "cell_type": "code",
   "execution_count": 5,
   "id": "cbe6481f",
   "metadata": {},
   "outputs": [
    {
     "name": "stdout",
     "output_type": "stream",
     "text": [
      "2\n",
      "2\n",
      "2\n",
      "Yes\n",
      "4\n",
      "4\n",
      "Yes\n"
     ]
    }
   ],
   "source": [
    "from collections import deque\n",
    "\n",
    "N = int(input())\n",
    "\n",
    "for _ in range(N):\n",
    "    flag = True\n",
    "    input()\n",
    "    d = deque(map(int, input().strip().split()))\n",
    "    if(d[0] >= d[-1]):\n",
    "        max = d.popleft()\n",
    "    else:\n",
    "        max = d.pop()\n",
    "    while d:\n",
    "        if(len(d)==1):\n",
    "            if(d[0] <= max):\n",
    "                break\n",
    "            else:\n",
    "                flag = False\n",
    "                break\n",
    "        else:\n",
    "            if(d[0]<=max and d[-1]<=max):\n",
    "                if(d[0]>=d[-1]):\n",
    "                    max = d.popleft()\n",
    "                else:\n",
    "                    max = d.pop()\n",
    "            elif(d[0]<=max):\n",
    "                max = d.popleft()\n",
    "            elif(d[-1]<=max):\n",
    "                max = d.pop()\n",
    "            else:\n",
    "                flag = False\n",
    "                break\n",
    "    if flag:\n",
    "        print(\"Yes\")\n",
    "    else:\n",
    "        print(\"No\")"
   ]
  },
  {
   "cell_type": "code",
   "execution_count": null,
   "id": "d7a27e5e",
   "metadata": {},
   "outputs": [],
   "source": []
  }
 ],
 "metadata": {
  "kernelspec": {
   "display_name": "Python 3 (ipykernel)",
   "language": "python",
   "name": "python3"
  },
  "language_info": {
   "codemirror_mode": {
    "name": "ipython",
    "version": 3
   },
   "file_extension": ".py",
   "mimetype": "text/x-python",
   "name": "python",
   "nbconvert_exporter": "python",
   "pygments_lexer": "ipython3",
   "version": "3.9.7"
  }
 },
 "nbformat": 4,
 "nbformat_minor": 5
}
