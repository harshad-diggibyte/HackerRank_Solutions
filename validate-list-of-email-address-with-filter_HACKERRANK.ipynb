{
 "cells": [
  {
   "cell_type": "markdown",
   "id": "43b05e1f",
   "metadata": {},
   "source": [
    "https://www.hackerrank.com/challenges/validate-list-of-email-address-with-filter/problem"
   ]
  },
  {
   "cell_type": "code",
   "execution_count": 1,
   "id": "4ffc4141",
   "metadata": {},
   "outputs": [
    {
     "name": "stdout",
     "output_type": "stream",
     "text": [
      "3\n",
      "lara@hackerrank.com\n",
      "brian-23@hackerrank.com\n",
      "britts_54@hackerrank.com\n",
      "['brian-23@hackerrank.com', 'britts_54@hackerrank.com', 'lara@hackerrank.com']\n"
     ]
    }
   ],
   "source": [
    "def fun(s):\n",
    "    # return True if s is a valid email, else return False\n",
    "    try:\n",
    "        username, url = s.split('@')\n",
    "        website,extension = url.split('.')\n",
    "    except ValueError:\n",
    "        return False\n",
    "    \n",
    "    if username.replace('-','').replace('_','').isalnum() is False:\n",
    "        return False\n",
    "    \n",
    "    elif website.isalnum() is False:\n",
    "        return False\n",
    "    \n",
    "    elif len(extension) > 3:\n",
    "        return False\n",
    "    \n",
    "    else :\n",
    "        return True\n",
    "# Validating Email Addresses With a Filter in Python - Hacker Rank Solution END\n",
    "def filter_mail(emails):\n",
    "    return list(filter(fun, emails))\n",
    "\n",
    "if __name__ == '__main__':\n",
    "    n = int(input())\n",
    "    emails = []\n",
    "    for _ in range(n):\n",
    "        emails.append(input())\n",
    "\n",
    "filtered_emails = filter_mail(emails)\n",
    "filtered_emails.sort()\n",
    "print(filtered_emails)"
   ]
  },
  {
   "cell_type": "code",
   "execution_count": null,
   "id": "3fcf3183",
   "metadata": {},
   "outputs": [],
   "source": []
  }
 ],
 "metadata": {
  "kernelspec": {
   "display_name": "Python 3 (ipykernel)",
   "language": "python",
   "name": "python3"
  },
  "language_info": {
   "codemirror_mode": {
    "name": "ipython",
    "version": 3
   },
   "file_extension": ".py",
   "mimetype": "text/x-python",
   "name": "python",
   "nbconvert_exporter": "python",
   "pygments_lexer": "ipython3",
   "version": "3.9.7"
  }
 },
 "nbformat": 4,
 "nbformat_minor": 5
}
